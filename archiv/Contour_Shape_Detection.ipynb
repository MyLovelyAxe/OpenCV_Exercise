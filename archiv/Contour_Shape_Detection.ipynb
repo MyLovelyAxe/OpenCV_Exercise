{
 "cells": [
  {
   "cell_type": "code",
   "execution_count": 1,
   "id": "e3774e47",
   "metadata": {},
   "outputs": [],
   "source": [
    "import cv2\n",
    "import numpy as np\n",
    "from utils import plot_in_one_window,to_jpg\n",
    "# args for plot_in_one_window should be at least 2 [], e.g.[[img]]"
   ]
  },
  {
   "cell_type": "markdown",
   "id": "09aeed68",
   "metadata": {},
   "source": [
    "#### convert .png into .jpg"
   ]
  },
  {
   "cell_type": "code",
   "execution_count": 4,
   "id": "aba12722",
   "metadata": {},
   "outputs": [],
   "source": [
    "to_jpg('geometry.png')"
   ]
  },
  {
   "cell_type": "markdown",
   "id": "460d5eb0",
   "metadata": {},
   "source": [
    "#### load original image"
   ]
  },
  {
   "cell_type": "code",
   "execution_count": 2,
   "id": "8e45154c",
   "metadata": {},
   "outputs": [],
   "source": [
    "img = cv2.imread('geometry.jpg')\n",
    "h,w,c = img.shape\n",
    "img = cv2.resize(img,(int(w/4),int(h/4)))\n",
    "cv2.imshow('geometry',img)\n",
    "cv2.waitKey(0)\n",
    "cv2.destroyAllWindows()"
   ]
  },
  {
   "cell_type": "markdown",
   "id": "78a05c16",
   "metadata": {},
   "source": [
    "#### gray and blur"
   ]
  },
  {
   "cell_type": "code",
   "execution_count": 3,
   "id": "21885883",
   "metadata": {},
   "outputs": [
    {
     "name": "stdout",
     "output_type": "stream",
     "text": [
      "(200, 198)\n",
      "(200, 198)\n"
     ]
    }
   ],
   "source": [
    "imgGray = cv2.cvtColor(img,cv2.COLOR_BGR2GRAY)\n",
    "print(imgGray.shape)\n",
    "imgBlur = cv2.GaussianBlur(imgGray,ksize=(7,7),sigmaX=1)\n",
    "print(imgBlur.shape)\n",
    "# plot in one window, plots must have same shape\n",
    "join_img = plot_in_one_window([[img,imgGray,imgBlur]])\n",
    "cv2.imshow('ori gray blur',join_img)\n",
    "cv2.waitKey(0)\n",
    "cv2.destroyAllWindows()"
   ]
  },
  {
   "cell_type": "markdown",
   "id": "90563098",
   "metadata": {},
   "source": [
    "#### edge detection"
   ]
  },
  {
   "cell_type": "code",
   "execution_count": 5,
   "id": "b2a23112",
   "metadata": {},
   "outputs": [],
   "source": [
    "imgCanny = cv2.Canny(imgBlur,50,50)\n",
    "join_img = plot_in_one_window([[img,imgGray,imgBlur],\n",
    "                               [imgCanny,imgCanny,imgCanny]])\n",
    "cv2.imshow('ori gray blur and contours',join_img)\n",
    "cv2.waitKey(0)\n",
    "cv2.destroyAllWindows()"
   ]
  },
  {
   "cell_type": "code",
   "execution_count": null,
   "id": "f2aa1717",
   "metadata": {},
   "outputs": [],
   "source": []
  }
 ],
 "metadata": {
  "kernelspec": {
   "display_name": "opencv",
   "language": "python",
   "name": "opencv"
  },
  "language_info": {
   "codemirror_mode": {
    "name": "ipython",
    "version": 3
   },
   "file_extension": ".py",
   "mimetype": "text/x-python",
   "name": "python",
   "nbconvert_exporter": "python",
   "pygments_lexer": "ipython3",
   "version": "3.11.3"
  },
  "varInspector": {
   "cols": {
    "lenName": 16,
    "lenType": 16,
    "lenVar": 40
   },
   "kernels_config": {
    "python": {
     "delete_cmd_postfix": "",
     "delete_cmd_prefix": "del ",
     "library": "var_list.py",
     "varRefreshCmd": "print(var_dic_list())"
    },
    "r": {
     "delete_cmd_postfix": ") ",
     "delete_cmd_prefix": "rm(",
     "library": "var_list.r",
     "varRefreshCmd": "cat(var_dic_list()) "
    }
   },
   "types_to_exclude": [
    "module",
    "function",
    "builtin_function_or_method",
    "instance",
    "_Feature"
   ],
   "window_display": false
  }
 },
 "nbformat": 4,
 "nbformat_minor": 5
}
