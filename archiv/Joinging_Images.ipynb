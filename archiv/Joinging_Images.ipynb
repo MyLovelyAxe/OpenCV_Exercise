{
 "cells": [
  {
   "cell_type": "code",
   "execution_count": 1,
   "id": "74ac09d8",
   "metadata": {},
   "outputs": [],
   "source": [
    "import cv2\n",
    "import numpy as np"
   ]
  },
  {
   "cell_type": "code",
   "execution_count": 2,
   "id": "38088568",
   "metadata": {},
   "outputs": [],
   "source": [
    "ori_img = cv2.imread('redhood.jpg')\n",
    "ori_img = cv2.resize(ori_img,(int(ori_img.shape[1]/8),int(ori_img.shape[0]/8)))\n",
    "cv2.imshow('haha',ori_img)\n",
    "cv2.waitKey(0)\n",
    "cv2.destroyWindow('haha')"
   ]
  },
  {
   "cell_type": "code",
   "execution_count": 8,
   "id": "9b5d015b",
   "metadata": {},
   "outputs": [],
   "source": [
    "# Attention:\n",
    "#    the images to be joined must have same shape, including channels\n",
    "stacks = [3,2]\n",
    "imgHor_lst = []\n",
    "for _ in range(stacks[0]):\n",
    "    imgHor_lst.append(ori_img) \n",
    "imgHor = np.hstack(imgHor_lst)\n",
    "imgver_lst = []\n",
    "for _ in range(stacks[1]):\n",
    "    imgver_lst.append(imgHor) \n",
    "imgJoin = np.vstack(imgver_lst)\n",
    "cv2.imshow('vertical & horizontal joining',imgJoin)\n",
    "cv2.waitKey(0)\n",
    "cv2.destroyAllWindows()"
   ]
  },
  {
   "cell_type": "code",
   "execution_count": null,
   "id": "23b1bc7a",
   "metadata": {},
   "outputs": [],
   "source": []
  }
 ],
 "metadata": {
  "kernelspec": {
   "display_name": "opencv",
   "language": "python",
   "name": "opencv"
  },
  "language_info": {
   "codemirror_mode": {
    "name": "ipython",
    "version": 3
   },
   "file_extension": ".py",
   "mimetype": "text/x-python",
   "name": "python",
   "nbconvert_exporter": "python",
   "pygments_lexer": "ipython3",
   "version": "3.11.3"
  },
  "varInspector": {
   "cols": {
    "lenName": 16,
    "lenType": 16,
    "lenVar": 40
   },
   "kernels_config": {
    "python": {
     "delete_cmd_postfix": "",
     "delete_cmd_prefix": "del ",
     "library": "var_list.py",
     "varRefreshCmd": "print(var_dic_list())"
    },
    "r": {
     "delete_cmd_postfix": ") ",
     "delete_cmd_prefix": "rm(",
     "library": "var_list.r",
     "varRefreshCmd": "cat(var_dic_list()) "
    }
   },
   "types_to_exclude": [
    "module",
    "function",
    "builtin_function_or_method",
    "instance",
    "_Feature"
   ],
   "window_display": false
  }
 },
 "nbformat": 4,
 "nbformat_minor": 5
}
