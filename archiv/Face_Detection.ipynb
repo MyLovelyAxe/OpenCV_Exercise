{
 "cells": [
  {
   "cell_type": "code",
   "execution_count": 1,
   "id": "41875d56",
   "metadata": {},
   "outputs": [],
   "source": [
    "import cv2\n",
    "import numpy as np\n",
    "from utils import plot_in_one_window\n",
    "# args for plot_in_one_window should be at least 2 [], e.g.[[img]]"
   ]
  },
  {
   "cell_type": "markdown",
   "id": "98eddfac",
   "metadata": {},
   "source": [
    "#### Face cascade detector"
   ]
  },
  {
   "cell_type": "code",
   "execution_count": 3,
   "id": "be22316a",
   "metadata": {},
   "outputs": [],
   "source": [
    "faceCascade = cv2.CascadeClassifier('haarcascade_frontalface_default.xml')"
   ]
  },
  {
   "cell_type": "code",
   "execution_count": 2,
   "id": "bac83c24",
   "metadata": {},
   "outputs": [
    {
     "name": "stdout",
     "output_type": "stream",
     "text": [
      "(512, 512, 3)\n"
     ]
    }
   ],
   "source": [
    "Ori_img = cv2.imread('lena.png')\n",
    "print(Ori_img.shape)\n",
    "cv2.imshow('lena',Ori_img)\n",
    "cv2.waitKey(0)\n",
    "cv2.destroyAllWindows()"
   ]
  },
  {
   "cell_type": "code",
   "execution_count": 4,
   "id": "e92d261a",
   "metadata": {},
   "outputs": [
    {
     "name": "stdout",
     "output_type": "stream",
     "text": [
      "faces: [[217 201 173 173]]\n"
     ]
    }
   ],
   "source": [
    "imgGray = cv2.cvtColor(Ori_img,cv2.COLOR_BGR2GRAY)\n",
    "# detect faces\n",
    "# args of cv2.CascadeClassifier.detectMultiScale()\n",
    "#     scaleFactor: Parameter specifying how much the image size is reduced at each image scale\n",
    "#     minNeighbors: Parameter specifying how many neighbors each candidate rectangle should have to retain it\n",
    "faces = faceCascade.detectMultiScale(image=imgGray,\n",
    "                                     scaleFactor=1.1,\n",
    "                                     minNeighbors=4)\n",
    "print(f'faces: {faces}')\n",
    "# bounding box\n",
    "imgBox = Ori_img.copy()\n",
    "for (x,y,w,h) in faces:\n",
    "    \n",
    "    cv2.rectangle(img=imgBox,\n",
    "                  pt1=(x,y),\n",
    "                  pt2=(x+w,y+h),\n",
    "                  color=(255,0,0),\n",
    "                  thickness=2)\n",
    "cv2.imshow('lena with face',imgBox)\n",
    "cv2.waitKey(0)\n",
    "cv2.destroyAllWindows()"
   ]
  },
  {
   "cell_type": "code",
   "execution_count": null,
   "id": "40d853f8",
   "metadata": {},
   "outputs": [],
   "source": []
  }
 ],
 "metadata": {
  "kernelspec": {
   "display_name": "opencv",
   "language": "python",
   "name": "python3"
  },
  "language_info": {
   "codemirror_mode": {
    "name": "ipython",
    "version": 3
   },
   "file_extension": ".py",
   "mimetype": "text/x-python",
   "name": "python",
   "nbconvert_exporter": "python",
   "pygments_lexer": "ipython3",
   "version": "3.11.3"
  },
  "varInspector": {
   "cols": {
    "lenName": 16,
    "lenType": 16,
    "lenVar": 40
   },
   "kernels_config": {
    "python": {
     "delete_cmd_postfix": "",
     "delete_cmd_prefix": "del ",
     "library": "var_list.py",
     "varRefreshCmd": "print(var_dic_list())"
    },
    "r": {
     "delete_cmd_postfix": ") ",
     "delete_cmd_prefix": "rm(",
     "library": "var_list.r",
     "varRefreshCmd": "cat(var_dic_list()) "
    }
   },
   "types_to_exclude": [
    "module",
    "function",
    "builtin_function_or_method",
    "instance",
    "_Feature"
   ],
   "window_display": false
  }
 },
 "nbformat": 4,
 "nbformat_minor": 5
}
