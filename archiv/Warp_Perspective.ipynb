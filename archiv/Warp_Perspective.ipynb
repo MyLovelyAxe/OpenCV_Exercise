{
 "cells": [
  {
   "cell_type": "code",
   "execution_count": 1,
   "id": "d29b9961",
   "metadata": {},
   "outputs": [],
   "source": [
    "import cv2\n",
    "import numpy as np"
   ]
  },
  {
   "cell_type": "code",
   "execution_count": 5,
   "id": "9a50e339",
   "metadata": {},
   "outputs": [],
   "source": [
    "img = cv2.imread('hello.jpg')\n",
    "cv2.imshow('image',img)\n",
    "cv2.waitKey(0)\n",
    "cv2.destroyWindow('image')"
   ]
  },
  {
   "cell_type": "code",
   "execution_count": 6,
   "id": "1303523e",
   "metadata": {},
   "outputs": [],
   "source": [
    "# move curser on green points in image and get coordinates from GUI\n",
    "# the corners of warped image: left-upper, right-upper, left-bottom, right-bottom\n",
    "pts1 = np.float32([[75,249],[375,121],[195,463],[501,273]])\n",
    "# corners of rectified image\n",
    "width, height = 300,200\n",
    "pts2 = np.float32([[0,0],[width,0],[0,height],[width,height]])\n",
    "# get transform matrix from pts1 to pts2\n",
    "matrix = cv2.getPerspectiveTransform(pts1,pts2)\n",
    "# define warp perspective\n",
    "imgOutput = cv2.warpPerspective(img, matrix, (width, height))\n",
    "\n",
    "cv2.imshow('warpped image',imgOutput)\n",
    "cv2.waitKey(0)\n",
    "cv2.destroyWindow('warpped image')"
   ]
  },
  {
   "cell_type": "code",
   "execution_count": null,
   "id": "e670a053",
   "metadata": {},
   "outputs": [],
   "source": []
  }
 ],
 "metadata": {
  "kernelspec": {
   "display_name": "opencv",
   "language": "python",
   "name": "opencv"
  },
  "language_info": {
   "codemirror_mode": {
    "name": "ipython",
    "version": 3
   },
   "file_extension": ".py",
   "mimetype": "text/x-python",
   "name": "python",
   "nbconvert_exporter": "python",
   "pygments_lexer": "ipython3",
   "version": "3.11.3"
  },
  "varInspector": {
   "cols": {
    "lenName": 16,
    "lenType": 16,
    "lenVar": 40
   },
   "kernels_config": {
    "python": {
     "delete_cmd_postfix": "",
     "delete_cmd_prefix": "del ",
     "library": "var_list.py",
     "varRefreshCmd": "print(var_dic_list())"
    },
    "r": {
     "delete_cmd_postfix": ") ",
     "delete_cmd_prefix": "rm(",
     "library": "var_list.r",
     "varRefreshCmd": "cat(var_dic_list()) "
    }
   },
   "types_to_exclude": [
    "module",
    "function",
    "builtin_function_or_method",
    "instance",
    "_Feature"
   ],
   "window_display": false
  }
 },
 "nbformat": 4,
 "nbformat_minor": 5
}
