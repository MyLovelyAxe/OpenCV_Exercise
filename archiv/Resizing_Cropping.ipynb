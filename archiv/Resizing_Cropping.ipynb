{
 "cells": [
  {
   "cell_type": "code",
   "execution_count": 1,
   "id": "a233c079",
   "metadata": {},
   "outputs": [],
   "source": [
    "import cv2\n",
    "import numpy as np"
   ]
  },
  {
   "cell_type": "markdown",
   "id": "ce42c931",
   "metadata": {},
   "source": [
    "## OpenCV Convention\n",
    "<font size=2>\n",
    "    \n",
    "In opencv, x direction points from left to right, and y direction points from up to down. Like the plot below from tutorial video from Murtaza's Workshop:\n",
    "    \n",
    "<div>\n",
    "<!-- src: relative path of the inserted picture -->\n",
    "<!-- style=\"zoom:60%: zoom ratio -->\n",
    "<img src=\"OpenCV_Convention.png\" style=\"zoom:20%\"/>\n",
    "</div>\n",
    "</font>"
   ]
  },
  {
   "cell_type": "markdown",
   "id": "0b6e148c",
   "metadata": {},
   "source": [
    "#### Resizing"
   ]
  },
  {
   "cell_type": "code",
   "execution_count": 16,
   "id": "14837e7f",
   "metadata": {},
   "outputs": [
    {
     "name": "stdout",
     "output_type": "stream",
     "text": [
      "original image shape: (1334, 750, 3)\n"
     ]
    }
   ],
   "source": [
    "# original image\n",
    "img = cv2.imread('redhood.jpg')\n",
    "print(f'original image shape: {img.shape}') # height, width, channel\n",
    "cv2.imshow('original image', img)\n",
    "cv2.waitKey(0)\n",
    "cv2.destroyWindow('original image')"
   ]
  },
  {
   "cell_type": "code",
   "execution_count": 13,
   "id": "18030dc3",
   "metadata": {},
   "outputs": [
    {
     "name": "stdout",
     "output_type": "stream",
     "text": [
      "Squeezed image shape: (133, 75, 3)\n"
     ]
    }
   ],
   "source": [
    "# squeezed image\n",
    "# attention:\n",
    "#    cv2.resize(img, (width, height))\n",
    "#    which is different from img.shape: height, width, channel\n",
    "imSqueeze = cv2.resize(img,(75,133))\n",
    "print(f'Squeezed image shape: {imSqueeze.shape}')\n",
    "cv2.imshow('Squeezed image', imSqueeze)\n",
    "cv2.waitKey(0)\n",
    "cv2.destroyWindow('Squeezed image')"
   ]
  },
  {
   "cell_type": "code",
   "execution_count": 15,
   "id": "556949f4",
   "metadata": {},
   "outputs": [
    {
     "name": "stdout",
     "output_type": "stream",
     "text": [
      "extended-squeezed image shape: (1330, 750, 3)\n"
     ]
    }
   ],
   "source": [
    "# extended-squeezed image\n",
    "imExtend = cv2.resize(imSqueeze,(750,1330))\n",
    "print(f'extended-squeezed image shape: {imExtend.shape}')\n",
    "cv2.imshow('extended-squeezed image', imExtend)\n",
    "cv2.waitKey(0)\n",
    "cv2.destroyWindow('extended-squeezed image')"
   ]
  },
  {
   "cell_type": "markdown",
   "id": "64e2b960",
   "metadata": {},
   "source": [
    "#### Cropping"
   ]
  },
  {
   "cell_type": "code",
   "execution_count": 17,
   "id": "86f05f8f",
   "metadata": {},
   "outputs": [],
   "source": [
    "# just slice with index\n",
    "imCropped = img[200:500,200:500,:]\n",
    "cv2.imshow('cropped image', imCropped)\n",
    "cv2.waitKey(0)\n",
    "cv2.destroyWindow('cropped image')"
   ]
  },
  {
   "cell_type": "code",
   "execution_count": null,
   "id": "e6576b0d",
   "metadata": {},
   "outputs": [],
   "source": []
  }
 ],
 "metadata": {
  "kernelspec": {
   "display_name": "opencv",
   "language": "python",
   "name": "opencv"
  },
  "language_info": {
   "codemirror_mode": {
    "name": "ipython",
    "version": 3
   },
   "file_extension": ".py",
   "mimetype": "text/x-python",
   "name": "python",
   "nbconvert_exporter": "python",
   "pygments_lexer": "ipython3",
   "version": "3.11.3"
  },
  "varInspector": {
   "cols": {
    "lenName": 16,
    "lenType": 16,
    "lenVar": 40
   },
   "kernels_config": {
    "python": {
     "delete_cmd_postfix": "",
     "delete_cmd_prefix": "del ",
     "library": "var_list.py",
     "varRefreshCmd": "print(var_dic_list())"
    },
    "r": {
     "delete_cmd_postfix": ") ",
     "delete_cmd_prefix": "rm(",
     "library": "var_list.r",
     "varRefreshCmd": "cat(var_dic_list()) "
    }
   },
   "types_to_exclude": [
    "module",
    "function",
    "builtin_function_or_method",
    "instance",
    "_Feature"
   ],
   "window_display": false
  }
 },
 "nbformat": 4,
 "nbformat_minor": 5
}
