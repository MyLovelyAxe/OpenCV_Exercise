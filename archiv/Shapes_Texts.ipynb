{
 "cells": [
  {
   "cell_type": "code",
   "execution_count": 20,
   "id": "59190646",
   "metadata": {},
   "outputs": [],
   "source": [
    "import cv2\n",
    "import numpy as np"
   ]
  },
  {
   "cell_type": "markdown",
   "id": "70e44faa",
   "metadata": {},
   "source": [
    "#### Image color"
   ]
  },
  {
   "cell_type": "code",
   "execution_count": 7,
   "id": "3f8344f8",
   "metadata": {},
   "outputs": [],
   "source": [
    "# create a black image\n",
    "# attention:\n",
    "#   define the type of pixel values equals to define the color scale\n",
    "#   e.g. if values' type is np.unint8, i.e. color values scale is 0-255\n",
    "#   then 0 means lowest, i.e. black for each channel\n",
    "#   and 255 means highest, i.e. blue, green, red for 1st, 2nd, 3rd channel\n",
    "#   (cv2 color phase is BGR)\n",
    "#   but if if values' type is np.unint16, i.e. color values scale is 0-65535\n",
    "#   similar with other features\n",
    "img = np.zeros((512,512,3),np.uint8) # 0-value for pixel means the most black\n",
    "cv2.imshow('Image',img)\n",
    "cv2.waitKey(0)\n",
    "cv2.destroyWindow('Image')"
   ]
  },
  {
   "cell_type": "code",
   "execution_count": 17,
   "id": "d55e5aba",
   "metadata": {},
   "outputs": [],
   "source": [
    "# make it colorful\n",
    "img = np.zeros((512,512,3),np.uint8)\n",
    "img[::20] = 150,150,20 # channels: 1st: blue, 2nd: green, 3rd: red\n",
    "img[:,::20] = 20,20,150\n",
    "cv2.imshow('Blue Image',img)\n",
    "cv2.waitKey(0)\n",
    "cv2.destroyWindow('Blue Image')"
   ]
  },
  {
   "cell_type": "markdown",
   "id": "d241e057",
   "metadata": {},
   "source": [
    "#### Shapes"
   ]
  },
  {
   "cell_type": "code",
   "execution_count": 41,
   "id": "a190e133",
   "metadata": {},
   "outputs": [],
   "source": [
    "img = np.zeros((512,512,3),np.uint8)\n",
    "# pt1: start_point (width,height)\n",
    "# pt2: end_point (width,height)\n",
    "### Lines\n",
    "img = cv2.line(img,pt1=(200,400),pt2=(100,300),color=(150,150,20),thickness=2)\n",
    "### Rectanges\n",
    "img = cv2.rectangle(img,pt1=(200,400),pt2=(100,300),color=(20,240,20),thickness=2)\n",
    "# or fill rectangle with:\n",
    "img = cv2.rectangle(img,pt1=(400,400),pt2=(300,300),color=(200,10,100),thickness=cv2.FILLED)\n",
    "### Circles\n",
    "img = cv2.circle(img,center=(200,200),radius=50,color=(10,200,200),thickness=cv2.FILLED)\n",
    "cv2.imshow('Line Image',img)\n",
    "cv2.waitKey(0)\n",
    "cv2.destroyWindow('Line Image')"
   ]
  },
  {
   "cell_type": "markdown",
   "id": "a25a0f81",
   "metadata": {},
   "source": [
    "#### Texts"
   ]
  },
  {
   "cell_type": "code",
   "execution_count": 72,
   "id": "baa35606",
   "metadata": {},
   "outputs": [],
   "source": [
    "### Add texts\n",
    "img = np.zeros((512,512,3),np.uint8)\n",
    "# org: the coordinates of the bottom-left corner of the text string in the image\n",
    "# fontFace: font style\n",
    "img = cv2.putText(img,text='HaHaHa',org=(50,400),\n",
    "                  fontFace=50,fontScale=3,color=(200,10,200),thickness=1)\n",
    "cv2.imshow('Line+Text Image',img)\n",
    "cv2.waitKey(0)\n",
    "cv2.destroyWindow('Line+Text Image')"
   ]
  },
  {
   "cell_type": "code",
   "execution_count": null,
   "id": "885ac119",
   "metadata": {},
   "outputs": [],
   "source": []
  }
 ],
 "metadata": {
  "kernelspec": {
   "display_name": "opencv",
   "language": "python",
   "name": "opencv"
  },
  "language_info": {
   "codemirror_mode": {
    "name": "ipython",
    "version": 3
   },
   "file_extension": ".py",
   "mimetype": "text/x-python",
   "name": "python",
   "nbconvert_exporter": "python",
   "pygments_lexer": "ipython3",
   "version": "3.11.3"
  },
  "varInspector": {
   "cols": {
    "lenName": 16,
    "lenType": 16,
    "lenVar": 40
   },
   "kernels_config": {
    "python": {
     "delete_cmd_postfix": "",
     "delete_cmd_prefix": "del ",
     "library": "var_list.py",
     "varRefreshCmd": "print(var_dic_list())"
    },
    "r": {
     "delete_cmd_postfix": ") ",
     "delete_cmd_prefix": "rm(",
     "library": "var_list.r",
     "varRefreshCmd": "cat(var_dic_list()) "
    }
   },
   "types_to_exclude": [
    "module",
    "function",
    "builtin_function_or_method",
    "instance",
    "_Feature"
   ],
   "window_display": false
  }
 },
 "nbformat": 4,
 "nbformat_minor": 5
}
