{
 "cells": [
  {
   "cell_type": "code",
   "execution_count": 30,
   "id": "09cea122",
   "metadata": {},
   "outputs": [],
   "source": [
    "import cv2\n",
    "import numpy as np\n",
    "import matplotlib.pyplot as plt"
   ]
  },
  {
   "cell_type": "markdown",
   "id": "62685609",
   "metadata": {},
   "source": [
    "### Change color phase"
   ]
  },
  {
   "cell_type": "code",
   "execution_count": 11,
   "id": "abff2d66",
   "metadata": {},
   "outputs": [
    {
     "name": "stdout",
     "output_type": "stream",
     "text": [
      "img shape: (1334, 750, 3)\n"
     ]
    }
   ],
   "source": [
    "img = cv2.imread('redhood.jpg')\n",
    "print(f'img shape: {img.shape}')"
   ]
  },
  {
   "cell_type": "code",
   "execution_count": 20,
   "id": "981a32d5",
   "metadata": {},
   "outputs": [],
   "source": [
    "'''Gray image'''\n",
    "imgGray = cv2.cvtColor(img,cv2.COLOR_BGR2GRAY)\n",
    "cv2.imshow('Gray Image', imgGray)\n",
    "cv2.waitKey(0)\n",
    "cv2.destroyWindow('Gray Image')"
   ]
  },
  {
   "cell_type": "code",
   "execution_count": 25,
   "id": "81ab8b93",
   "metadata": {},
   "outputs": [],
   "source": [
    "'''Gaussian Blur'''\n",
    "# reference: https://docs.opencv.org/4.x/d4/d13/tutorial_py_filtering.html\n",
    "# ksize: kernel_size of Gaussian blur\n",
    "# sigmaX: standard deviation in X direction\n",
    "imBlur = cv2.GaussianBlur(imgGray,ksize=(15,15),sigmaX=0) \n",
    "cv2.imshow('Gaussian Blur', imBlur)\n",
    "cv2.waitKey(0)\n",
    "cv2.destroyWindow('Gaussian Blur')"
   ]
  },
  {
   "cell_type": "code",
   "execution_count": 27,
   "id": "0ecbd52c",
   "metadata": {},
   "outputs": [],
   "source": [
    "'''Canny'''\n",
    "# reference: https://docs.opencv.org/4.x/da/d22/tutorial_py_canny.html\n",
    "# threshold1: first threshold for the hysteresis procedure.\n",
    "# threshold2: second threshold for the hysteresis procedure.\n",
    "imCanny = cv2.Canny(img,threshold1=200, threshold2=250) \n",
    "cv2.imshow('Canny image', imCanny)\n",
    "cv2.waitKey(0)\n",
    "cv2.destroyWindow('Canny image')"
   ]
  },
  {
   "cell_type": "code",
   "execution_count": 55,
   "id": "62473bdc",
   "metadata": {},
   "outputs": [],
   "source": [
    "'''Dilation'''\n",
    "# reference: https://docs.opencv.org/3.4/db/df6/tutorial_erosion_dilatation.html\n",
    "# which can make detected edges thicker\n",
    "dilate_kernel = np.ones((5,5))\n",
    "# kernel: structuring element used for dilation\n",
    "# iterations: number of times dilation is applied.\n",
    "imDilation = cv2.dilate(imCanny,kernel=dilate_kernel,iterations=4) \n",
    "cv2.imshow('Dilated image', imDilation)\n",
    "cv2.waitKey(0)\n",
    "cv2.destroyWindow('Dilated image')"
   ]
  },
  {
   "cell_type": "code",
   "execution_count": 56,
   "id": "2b9ed6e9",
   "metadata": {},
   "outputs": [],
   "source": [
    "'''Erosion'''\n",
    "# reference: https://docs.opencv.org/3.4/db/df6/tutorial_erosion_dilatation.html\n",
    "# which can make detected edges thinner\n",
    "erode_kernel = np.ones((5,5),np.uint8)\n",
    "# kernel: structuring element used for dilation\n",
    "# iterations: number of times dilation is applied.\n",
    "imErosion = cv2.erode(imDilation,kernel=erode_kernel,iterations=4) \n",
    "cv2.imshow('Eroded image', imErosion)\n",
    "cv2.waitKey(0)\n",
    "cv2.destroyWindow('Eroded image')"
   ]
  },
  {
   "cell_type": "code",
   "execution_count": null,
   "id": "470d0612",
   "metadata": {},
   "outputs": [],
   "source": []
  }
 ],
 "metadata": {
  "kernelspec": {
   "display_name": "opencv",
   "language": "python",
   "name": "opencv"
  },
  "language_info": {
   "codemirror_mode": {
    "name": "ipython",
    "version": 3
   },
   "file_extension": ".py",
   "mimetype": "text/x-python",
   "name": "python",
   "nbconvert_exporter": "python",
   "pygments_lexer": "ipython3",
   "version": "3.11.3"
  },
  "varInspector": {
   "cols": {
    "lenName": 16,
    "lenType": 16,
    "lenVar": 40
   },
   "kernels_config": {
    "python": {
     "delete_cmd_postfix": "",
     "delete_cmd_prefix": "del ",
     "library": "var_list.py",
     "varRefreshCmd": "print(var_dic_list())"
    },
    "r": {
     "delete_cmd_postfix": ") ",
     "delete_cmd_prefix": "rm(",
     "library": "var_list.r",
     "varRefreshCmd": "cat(var_dic_list()) "
    }
   },
   "types_to_exclude": [
    "module",
    "function",
    "builtin_function_or_method",
    "instance",
    "_Feature"
   ],
   "window_display": false
  }
 },
 "nbformat": 4,
 "nbformat_minor": 5
}
