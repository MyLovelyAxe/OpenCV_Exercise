{
 "cells": [
  {
   "cell_type": "code",
   "execution_count": 1,
   "id": "460ac1f3",
   "metadata": {},
   "outputs": [
    {
     "name": "stdout",
     "output_type": "stream",
     "text": [
      "/home/hardli/python/OpenCV/archiv\n"
     ]
    }
   ],
   "source": [
    "import cv2\n",
    "import os\n",
    "import numpy as np\n",
    "print(os.getcwd())"
   ]
  },
  {
   "cell_type": "code",
   "execution_count": 2,
   "id": "5c76b920",
   "metadata": {},
   "outputs": [],
   "source": [
    "ori_img = cv2.imread('redhood.jpg')\n",
    "ori_img = cv2.resize(ori_img,(int(ori_img.shape[1]/5),int(ori_img.shape[0]/5)))\n",
    "cv2.imshow('whatever',ori_img)\n",
    "cv2.waitKey(0)\n",
    "cv2.destroyAllWindows()"
   ]
  },
  {
   "cell_type": "code",
   "execution_count": 3,
   "id": "553f894a",
   "metadata": {},
   "outputs": [],
   "source": [
    "imgHSV = cv2.cvtColor(ori_img,cv2.COLOR_BGR2HSV)\n",
    "cv2.imshow('imgHSV',imgHSV)\n",
    "cv2.waitKey(0)\n",
    "cv2.destroyAllWindows()"
   ]
  },
  {
   "attachments": {},
   "cell_type": "markdown",
   "id": "0c14c5aa",
   "metadata": {},
   "source": [
    "#### Track bar"
   ]
  },
  {
   "cell_type": "code",
   "execution_count": 8,
   "id": "f4d5a103",
   "metadata": {},
   "outputs": [],
   "source": [
    "### set a window for track bars\n",
    "cv2.namedWindow('TrackBars')\n",
    "cv2.resizeWindow('TrackBars',640,640)\n",
    "def do_nothing(a):\n",
    "    pass\n",
    "# args:\n",
    "#  1. track bar name\n",
    "#  2. on which window\n",
    "#  3. starting value of bar\n",
    "#  4. maximum of bar\n",
    "#  5. a function to be called every time when track bar changes\n",
    "cv2.createTrackbar('Hue min','TrackBars',0,179,do_nothing)\n",
    "cv2.createTrackbar('Hue max','TrackBars',179,179,do_nothing)\n",
    "cv2.createTrackbar('Sat min','TrackBars',0,255,do_nothing)\n",
    "cv2.createTrackbar('Sat max','TrackBars',255,255,do_nothing)\n",
    "cv2.createTrackbar('Val min','TrackBars',0,255,do_nothing)\n",
    "cv2.createTrackbar('Val max','TrackBars',255,255,do_nothing)\n",
    "\n",
    "while True:\n",
    "    # wait for specific keyboard 'q' to close the window\n",
    "    if cv2.waitKey(1) & 0xFF == ord('q'): \n",
    "        break\n",
    "    ### get trackbar value and take them as limit\n",
    "    # args:\n",
    "    #  1. name of track bar\n",
    "    #  2. name of window\n",
    "    hue_min = cv2.getTrackbarPos('Hue min', 'TrackBars')\n",
    "    hue_max = cv2.getTrackbarPos('Hue max', 'TrackBars')\n",
    "    sat_min = cv2.getTrackbarPos('Sat min', 'TrackBars')\n",
    "    sat_max = cv2.getTrackbarPos('Sat max', 'TrackBars')\n",
    "    val_min = cv2.getTrackbarPos('Val min', 'TrackBars')\n",
    "    val_max = cv2.getTrackbarPos('Val max', 'TrackBars')\n",
    "    ### make a mask to extract the specific color\n",
    "    # hue: color scale\n",
    "    # saturation: degree of color, e.g. how red is it?\n",
    "    # value: the illumination of color\n",
    "    lower_limit = np.array([hue_min,sat_min,val_min])\n",
    "    upper_limit = np.array([hue_max,sat_max,val_max])\n",
    "    Mask = cv2.inRange(imgHSV,lower_limit,upper_limit)\n",
    "    ### apply bitwise 'and' operation to extract from original image\n",
    "    # args:\n",
    "    #  1. original image\n",
    "    #  2. output image\n",
    "    #  3. mask\n",
    "    # Attention:\n",
    "    #  cv2.bitwise_and only take mask with 2 channel\n",
    "    imgResult = cv2.bitwise_and(ori_img,ori_img,mask=Mask)\n",
    "    #  but in order to plot all image in one window\n",
    "    #  all plots must have same shape\n",
    "    #  therefore the 2D mask should be expanded into 3D\n",
    "    Mask = np.stack((Mask,)*3, axis=-1)\n",
    "    #### join the images into one window\n",
    "    img_line1 = np.hstack((ori_img,imgHSV))\n",
    "    img_line2 = np.hstack((Mask,imgResult))\n",
    "    final_img = np.vstack((img_line1,img_line2))\n",
    "    cv2.imshow('Result image',final_img)\n",
    "cv2.destroyAllWindows()"
   ]
  },
  {
   "cell_type": "code",
   "execution_count": null,
   "id": "a967ec5b",
   "metadata": {},
   "outputs": [],
   "source": []
  }
 ],
 "metadata": {
  "kernelspec": {
   "display_name": "opencv",
   "language": "python",
   "name": "python3"
  },
  "language_info": {
   "codemirror_mode": {
    "name": "ipython",
    "version": 3
   },
   "file_extension": ".py",
   "mimetype": "text/x-python",
   "name": "python",
   "nbconvert_exporter": "python",
   "pygments_lexer": "ipython3",
   "version": "3.11.3"
  },
  "varInspector": {
   "cols": {
    "lenName": 16,
    "lenType": 16,
    "lenVar": 40
   },
   "kernels_config": {
    "python": {
     "delete_cmd_postfix": "",
     "delete_cmd_prefix": "del ",
     "library": "var_list.py",
     "varRefreshCmd": "print(var_dic_list())"
    },
    "r": {
     "delete_cmd_postfix": ") ",
     "delete_cmd_prefix": "rm(",
     "library": "var_list.r",
     "varRefreshCmd": "cat(var_dic_list()) "
    }
   },
   "types_to_exclude": [
    "module",
    "function",
    "builtin_function_or_method",
    "instance",
    "_Feature"
   ],
   "window_display": false
  }
 },
 "nbformat": 4,
 "nbformat_minor": 5
}
